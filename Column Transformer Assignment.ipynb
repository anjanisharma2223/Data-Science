{
 "cells": [
  {
   "cell_type": "code",
   "execution_count": 1,
   "id": "4d8111b2",
   "metadata": {},
   "outputs": [],
   "source": [
    "import numpy as np\n",
    "import pandas as pd"
   ]
  },
  {
   "cell_type": "code",
   "execution_count": 2,
   "id": "13aa9336",
   "metadata": {},
   "outputs": [],
   "source": [
    "df = pd.read_csv(\"C:\\\\Users\\\\91636\\\\OneDrive\\\\Desktop\\\\Regex ML\\\\Data\\\\tips.csv\")"
   ]
  },
  {
   "cell_type": "code",
   "execution_count": 3,
   "id": "90e4609d",
   "metadata": {},
   "outputs": [
    {
     "data": {
      "text/html": [
       "<div>\n",
       "<style scoped>\n",
       "    .dataframe tbody tr th:only-of-type {\n",
       "        vertical-align: middle;\n",
       "    }\n",
       "\n",
       "    .dataframe tbody tr th {\n",
       "        vertical-align: top;\n",
       "    }\n",
       "\n",
       "    .dataframe thead th {\n",
       "        text-align: right;\n",
       "    }\n",
       "</style>\n",
       "<table border=\"1\" class=\"dataframe\">\n",
       "  <thead>\n",
       "    <tr style=\"text-align: right;\">\n",
       "      <th></th>\n",
       "      <th>total_bill</th>\n",
       "      <th>tip</th>\n",
       "      <th>sex</th>\n",
       "      <th>smoker</th>\n",
       "      <th>day</th>\n",
       "      <th>time</th>\n",
       "      <th>size</th>\n",
       "    </tr>\n",
       "  </thead>\n",
       "  <tbody>\n",
       "    <tr>\n",
       "      <th>0</th>\n",
       "      <td>16.99</td>\n",
       "      <td>1.01</td>\n",
       "      <td>Female</td>\n",
       "      <td>No</td>\n",
       "      <td>Sun</td>\n",
       "      <td>Dinner</td>\n",
       "      <td>2</td>\n",
       "    </tr>\n",
       "    <tr>\n",
       "      <th>1</th>\n",
       "      <td>10.34</td>\n",
       "      <td>1.66</td>\n",
       "      <td>Male</td>\n",
       "      <td>No</td>\n",
       "      <td>Sun</td>\n",
       "      <td>Dinner</td>\n",
       "      <td>3</td>\n",
       "    </tr>\n",
       "    <tr>\n",
       "      <th>2</th>\n",
       "      <td>21.01</td>\n",
       "      <td>3.50</td>\n",
       "      <td>Male</td>\n",
       "      <td>No</td>\n",
       "      <td>Sun</td>\n",
       "      <td>Dinner</td>\n",
       "      <td>3</td>\n",
       "    </tr>\n",
       "    <tr>\n",
       "      <th>3</th>\n",
       "      <td>23.68</td>\n",
       "      <td>3.31</td>\n",
       "      <td>Male</td>\n",
       "      <td>No</td>\n",
       "      <td>Sun</td>\n",
       "      <td>Dinner</td>\n",
       "      <td>2</td>\n",
       "    </tr>\n",
       "    <tr>\n",
       "      <th>4</th>\n",
       "      <td>24.59</td>\n",
       "      <td>3.61</td>\n",
       "      <td>Female</td>\n",
       "      <td>No</td>\n",
       "      <td>Sun</td>\n",
       "      <td>Dinner</td>\n",
       "      <td>4</td>\n",
       "    </tr>\n",
       "  </tbody>\n",
       "</table>\n",
       "</div>"
      ],
      "text/plain": [
       "   total_bill   tip     sex smoker  day    time  size\n",
       "0       16.99  1.01  Female     No  Sun  Dinner     2\n",
       "1       10.34  1.66    Male     No  Sun  Dinner     3\n",
       "2       21.01  3.50    Male     No  Sun  Dinner     3\n",
       "3       23.68  3.31    Male     No  Sun  Dinner     2\n",
       "4       24.59  3.61  Female     No  Sun  Dinner     4"
      ]
     },
     "execution_count": 3,
     "metadata": {},
     "output_type": "execute_result"
    }
   ],
   "source": [
    "df.head()"
   ]
  },
  {
   "cell_type": "code",
   "execution_count": 4,
   "id": "c4a53643",
   "metadata": {},
   "outputs": [
    {
     "data": {
      "text/plain": [
       "total_bill    0\n",
       "tip           0\n",
       "sex           0\n",
       "smoker        0\n",
       "day           0\n",
       "time          0\n",
       "size          0\n",
       "dtype: int64"
      ]
     },
     "execution_count": 4,
     "metadata": {},
     "output_type": "execute_result"
    }
   ],
   "source": [
    "df.isnull().sum()"
   ]
  },
  {
   "cell_type": "code",
   "execution_count": 5,
   "id": "87458060",
   "metadata": {},
   "outputs": [],
   "source": [
    "from sklearn.impute import SimpleImputer\n",
    "from sklearn.preprocessing import OneHotEncoder\n",
    "from sklearn.preprocessing import OrdinalEncoder"
   ]
  },
  {
   "cell_type": "code",
   "execution_count": 7,
   "id": "a7ec58ae",
   "metadata": {},
   "outputs": [],
   "source": [
    "x = df.drop(columns = ['smoker'])\n",
    "y = df['smoker']"
   ]
  },
  {
   "cell_type": "code",
   "execution_count": 8,
   "id": "6fe95571",
   "metadata": {},
   "outputs": [],
   "source": [
    "from sklearn.model_selection import train_test_split \n",
    "\n",
    "x_train , x_test , y_train ,y_test = train_test_split(x,y,test_size=  0.2 , random_state = 42)"
   ]
  },
  {
   "cell_type": "markdown",
   "id": "3d75fd9e",
   "metadata": {},
   "source": [
    "# Step-1 ==> Simple Imputer ==> tip"
   ]
  },
  {
   "cell_type": "code",
   "execution_count": 15,
   "id": "60ba9e26",
   "metadata": {},
   "outputs": [],
   "source": [
    "si = SimpleImputer() \n",
    "x_train_tip = si.fit_transform(x_train[['tip']])\n",
    "x_test_tip = si.fit_transform(x_test[['tip']])"
   ]
  },
  {
   "cell_type": "code",
   "execution_count": 16,
   "id": "6c936233",
   "metadata": {},
   "outputs": [
    {
     "data": {
      "text/plain": [
       "(195, 1)"
      ]
     },
     "execution_count": 16,
     "metadata": {},
     "output_type": "execute_result"
    }
   ],
   "source": [
    "x_train_tip.shape"
   ]
  },
  {
   "cell_type": "markdown",
   "id": "0fd9a30a",
   "metadata": {},
   "source": [
    "# Step-2 ==> Ordinal Encoding ==> sex"
   ]
  },
  {
   "cell_type": "code",
   "execution_count": 17,
   "id": "d7f1585b",
   "metadata": {},
   "outputs": [],
   "source": [
    "oe = OrdinalEncoder(categories = [[ 'Male' , 'Female']])\n",
    "x_train_sex = oe.fit_transform(x_train[[ 'sex' ]])"
   ]
  },
  {
   "cell_type": "code",
   "execution_count": 18,
   "id": "2152adcc",
   "metadata": {},
   "outputs": [
    {
     "data": {
      "text/plain": [
       "(195, 1)"
      ]
     },
     "execution_count": 18,
     "metadata": {},
     "output_type": "execute_result"
    }
   ],
   "source": [
    "x_train_sex.shape"
   ]
  },
  {
   "cell_type": "markdown",
   "id": "eed846c9",
   "metadata": {},
   "source": [
    "# Step-2 ==> OneHotEncoding ==> Day, Time"
   ]
  },
  {
   "cell_type": "code",
   "execution_count": 19,
   "id": "d4dfb2da",
   "metadata": {},
   "outputs": [],
   "source": [
    "ohe = OneHotEncoder(drop = 'first' , sparse = False)\n",
    "x_train_day_time = ohe.fit_transform(x_train[['day' , 'time']])"
   ]
  },
  {
   "cell_type": "code",
   "execution_count": 20,
   "id": "9e2e3245",
   "metadata": {},
   "outputs": [
    {
     "data": {
      "text/plain": [
       "(195, 4)"
      ]
     },
     "execution_count": 20,
     "metadata": {},
     "output_type": "execute_result"
    }
   ],
   "source": [
    "x_train_day_time.shape"
   ]
  },
  {
   "cell_type": "markdown",
   "id": "d3871063",
   "metadata": {},
   "source": [
    "# Step-4 ==> Extracting Total Bill"
   ]
  },
  {
   "cell_type": "code",
   "execution_count": 22,
   "id": "a394bcf5",
   "metadata": {},
   "outputs": [],
   "source": [
    "x_train_total_bill = x_train.drop(columns = ['size' , 'tip' , 'time' , 'day', 'sex']).values "
   ]
  },
  {
   "cell_type": "code",
   "execution_count": 23,
   "id": "529d9cc5",
   "metadata": {},
   "outputs": [
    {
     "data": {
      "text/plain": [
       "(195, 1)"
      ]
     },
     "execution_count": 23,
     "metadata": {},
     "output_type": "execute_result"
    }
   ],
   "source": [
    "x_train_total_bill.shape"
   ]
  },
  {
   "cell_type": "markdown",
   "id": "b0c96ff0",
   "metadata": {},
   "source": [
    "# Step-5 ==> Concatenate all the Data"
   ]
  },
  {
   "cell_type": "code",
   "execution_count": 24,
   "id": "bd8054da",
   "metadata": {},
   "outputs": [],
   "source": [
    "x_train_transformed = np.concatenate((x_train_tip , x_train_sex , x_train_day_time , \n",
    "                                      x_train_total_bill) , axis = 1)"
   ]
  },
  {
   "cell_type": "code",
   "execution_count": 25,
   "id": "a1f70979",
   "metadata": {},
   "outputs": [
    {
     "data": {
      "text/plain": [
       "(195, 7)"
      ]
     },
     "execution_count": 25,
     "metadata": {},
     "output_type": "execute_result"
    }
   ],
   "source": [
    "x_train_transformed.shape"
   ]
  },
  {
   "cell_type": "markdown",
   "id": "d2232e21",
   "metadata": {},
   "source": [
    "# We can do this in one cell using Column Transformer  "
   ]
  },
  {
   "cell_type": "code",
   "execution_count": 26,
   "id": "bfcc8817",
   "metadata": {},
   "outputs": [],
   "source": [
    "from sklearn.compose import ColumnTransformer "
   ]
  },
  {
   "cell_type": "code",
   "execution_count": 29,
   "id": "f30022a7",
   "metadata": {},
   "outputs": [],
   "source": [
    "transformer = ColumnTransformer(transformers = [\n",
    "    ('a' , SimpleImputer() , ['tip']), \n",
    "    ('b' , OrdinalEncoder(categories = [['Male' , 'Female']]) , ['sex']),\n",
    "    ('c' , OneHotEncoder(sparse = False , drop = 'first') , ['day' , 'time'])\n",
    "] , remainder = 'passthrough') "
   ]
  },
  {
   "cell_type": "code",
   "execution_count": 30,
   "id": "b57a58d0",
   "metadata": {},
   "outputs": [
    {
     "data": {
      "text/plain": [
       "(195, 8)"
      ]
     },
     "execution_count": 30,
     "metadata": {},
     "output_type": "execute_result"
    }
   ],
   "source": [
    "transformer.fit_transform(x_train).shape"
   ]
  }
 ],
 "metadata": {
  "kernelspec": {
   "display_name": "Python 3 (ipykernel)",
   "language": "python",
   "name": "python3"
  },
  "language_info": {
   "codemirror_mode": {
    "name": "ipython",
    "version": 3
   },
   "file_extension": ".py",
   "mimetype": "text/x-python",
   "name": "python",
   "nbconvert_exporter": "python",
   "pygments_lexer": "ipython3",
   "version": "3.9.12"
  }
 },
 "nbformat": 4,
 "nbformat_minor": 5
}
