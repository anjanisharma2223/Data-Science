{
 "cells": [
  {
   "cell_type": "markdown",
   "id": "34fea3ed",
   "metadata": {},
   "source": [
    "# Regular Expression    "
   ]
  },
  {
   "cell_type": "code",
   "execution_count": 2,
   "id": "c47868ca",
   "metadata": {},
   "outputs": [],
   "source": [
    "import re"
   ]
  },
  {
   "cell_type": "markdown",
   "id": "918c8fa4",
   "metadata": {},
   "source": [
    "Search the string to see if it starts with \"The\" and ends with \"Spain"
   ]
  },
  {
   "cell_type": "code",
   "execution_count": 3,
   "id": "28e9387b",
   "metadata": {},
   "outputs": [
    {
     "name": "stdout",
     "output_type": "stream",
     "text": [
      "Yes\n"
     ]
    }
   ],
   "source": [
    "txt = \"The rain in Spain\"\n",
    "x=re.search(\"^The.*Spain$\",txt)\n",
    "if(x):\n",
    "    print(\"Yes\")\n",
    "else:\n",
    "    print(\"No\")"
   ]
  },
  {
   "cell_type": "markdown",
   "id": "da4ae0cc",
   "metadata": {},
   "source": [
    "# Regex Functions\n"
   ]
  },
  {
   "cell_type": "markdown",
   "id": "1bb7eb5d",
   "metadata": {},
   "source": [
    "# 1. Findall\n",
    "Returns a list containing all matches."
   ]
  },
  {
   "cell_type": "code",
   "execution_count": 4,
   "id": "42c309b2",
   "metadata": {},
   "outputs": [
    {
     "data": {
      "text/plain": [
       "['ai', 'ai']"
      ]
     },
     "execution_count": 4,
     "metadata": {},
     "output_type": "execute_result"
    }
   ],
   "source": [
    "txt = \"The rain in Spain.\"\n",
    "x=re.findall('ai',txt)\n",
    "x"
   ]
  },
  {
   "cell_type": "markdown",
   "id": "6a957b34",
   "metadata": {},
   "source": [
    "The list contains the matches in order they are found. If no matches are found, an empty list is returned."
   ]
  },
  {
   "cell_type": "code",
   "execution_count": 5,
   "id": "74eead9c",
   "metadata": {},
   "outputs": [
    {
     "data": {
      "text/plain": [
       "[]"
      ]
     },
     "execution_count": 5,
     "metadata": {},
     "output_type": "execute_result"
    }
   ],
   "source": [
    "x = re.findall(\"Jaipur\",txt)\n",
    "x"
   ]
  },
  {
   "cell_type": "markdown",
   "id": "686f80d0",
   "metadata": {},
   "source": [
    "# 2. Search() \n",
    "Returns a match object if there is a match anywhere in the string."
   ]
  },
  {
   "cell_type": "code",
   "execution_count": 9,
   "id": "8106f4ec",
   "metadata": {},
   "outputs": [
    {
     "name": "stdout",
     "output_type": "stream",
     "text": [
      "The first white space character is located in position:  1\n"
     ]
    }
   ],
   "source": [
    "txt = \"I am in Jaipur\"\n",
    "x=re.search('\\s',txt)\n",
    "print(\"The first white space character is located in position: \",x.start())"
   ]
  },
  {
   "cell_type": "markdown",
   "id": "aeff28d6",
   "metadata": {},
   "source": [
    "If no matches are found, the value None is returned."
   ]
  },
  {
   "cell_type": "code",
   "execution_count": 10,
   "id": "4fe85479",
   "metadata": {},
   "outputs": [
    {
     "data": {
      "text/plain": [
       "<re.Match object; span=(8, 14), match='Jaipur'>"
      ]
     },
     "execution_count": 10,
     "metadata": {},
     "output_type": "execute_result"
    }
   ],
   "source": [
    "x = re.search('Jaipur',txt)\n",
    "x"
   ]
  },
  {
   "cell_type": "markdown",
   "id": "daec5b76",
   "metadata": {},
   "source": [
    "# 3. Split()\n",
    "Returns a list where the string has been split at each other."
   ]
  },
  {
   "cell_type": "code",
   "execution_count": 11,
   "id": "4798c020",
   "metadata": {},
   "outputs": [
    {
     "data": {
      "text/plain": [
       "['I', 'am', 'in', 'Jaipur']"
      ]
     },
     "execution_count": 11,
     "metadata": {},
     "output_type": "execute_result"
    }
   ],
   "source": [
    "txt = \"I am in Jaipur\"\n",
    "x=re.split('\\s',txt)\n",
    "x"
   ]
  },
  {
   "cell_type": "markdown",
   "id": "5def67ee",
   "metadata": {},
   "source": [
    "You cancontrol the number of occurances by specifying the maxsplit parameter."
   ]
  },
  {
   "cell_type": "code",
   "execution_count": 13,
   "id": "0545325b",
   "metadata": {},
   "outputs": [
    {
     "data": {
      "text/plain": [
       "['I', 'am in Jaipur']"
      ]
     },
     "execution_count": 13,
     "metadata": {},
     "output_type": "execute_result"
    }
   ],
   "source": [
    "x=re.split('\\s',txt,1)\n",
    "x"
   ]
  },
  {
   "cell_type": "markdown",
   "id": "7d054468",
   "metadata": {},
   "source": [
    "# 4. sub()\n",
    "Replace one or many matches with a string."
   ]
  },
  {
   "cell_type": "code",
   "execution_count": 14,
   "id": "19fc71de",
   "metadata": {},
   "outputs": [
    {
     "data": {
      "text/plain": [
       "'ISamSinSJaipur'"
      ]
     },
     "execution_count": 14,
     "metadata": {},
     "output_type": "execute_result"
    }
   ],
   "source": [
    "x = re.sub(\"\\s\",\"S\",txt)\n",
    "x"
   ]
  },
  {
   "cell_type": "markdown",
   "id": "b9c5c97f",
   "metadata": {},
   "source": [
    "You can control the number of replacements by specifying the count parameter."
   ]
  },
  {
   "cell_type": "code",
   "execution_count": 15,
   "id": "fc610019",
   "metadata": {},
   "outputs": [
    {
     "data": {
      "text/plain": [
       "'ISamSin Jaipur'"
      ]
     },
     "execution_count": 15,
     "metadata": {},
     "output_type": "execute_result"
    }
   ],
   "source": [
    "x = re.sub(\"\\s\",\"S\",txt,2)\n",
    "x"
   ]
  },
  {
   "cell_type": "markdown",
   "id": "10ec2989",
   "metadata": {},
   "source": [
    "# 1. MatchCharacters\n",
    "MatchCharacters are characters with a special meaning."
   ]
  },
  {
   "cell_type": "code",
   "execution_count": 16,
   "id": "ae161ea9",
   "metadata": {},
   "outputs": [
    {
     "data": {
      "text/plain": [
       "['a', 'n', 'i', 'n', 'a', 'i', 'p', 'u', 'r']"
      ]
     },
     "execution_count": 16,
     "metadata": {},
     "output_type": "execute_result"
    }
   ],
   "source": [
    "txt = \"I an in Jaipur\"\n",
    "x=re.findall(\"[a-z]\",txt)\n",
    "x"
   ]
  },
  {
   "cell_type": "markdown",
   "id": "0585ef75",
   "metadata": {},
   "source": [
    "# 2. \\\n",
    "Signals a special sequence (can also be used to escape special characters.)"
   ]
  },
  {
   "cell_type": "code",
   "execution_count": 17,
   "id": "a9923d4a",
   "metadata": {},
   "outputs": [
    {
     "data": {
      "text/plain": [
       "['5', '9']"
      ]
     },
     "execution_count": 17,
     "metadata": {},
     "output_type": "execute_result"
    }
   ],
   "source": [
    "txt = \"That will be 59 dollars\"\n",
    "# Find all digit characters.\n",
    "x=re.findall(\"\\d\",txt)\n",
    "x"
   ]
  },
  {
   "cell_type": "markdown",
   "id": "400c4f1a",
   "metadata": {},
   "source": [
    "# 3.  .\n",
    "any character (except newline character)\n"
   ]
  },
  {
   "cell_type": "code",
   "execution_count": 18,
   "id": "17eeac9a",
   "metadata": {},
   "outputs": [
    {
     "data": {
      "text/plain": [
       "['hello']"
      ]
     },
     "execution_count": 18,
     "metadata": {},
     "output_type": "execute_result"
    }
   ],
   "source": [
    "txt = \"hello planet\"\n",
    "# Search for a sequence that starts with \"he\", followed by two (any) characters, and an \"o\".\n",
    "x=re.findall(\"he..o\",txt)\n",
    "x"
   ]
  },
  {
   "cell_type": "markdown",
   "id": "f4de2ec6",
   "metadata": {},
   "source": [
    "# 4.  ^\n",
    "Starts with"
   ]
  },
  {
   "cell_type": "code",
   "execution_count": 21,
   "id": "1d82bff7",
   "metadata": {},
   "outputs": [
    {
     "name": "stdout",
     "output_type": "stream",
     "text": [
      "['hello']\n",
      "Yes\n"
     ]
    }
   ],
   "source": [
    "txt = \"hello planet\"\n",
    "x=re.findall('^hello',txt)\n",
    "print(x)\n",
    "if(x):\n",
    "    print(\"Yes\")\n",
    "else:\n",
    "    print(\"No\")"
   ]
  },
  {
   "cell_type": "markdown",
   "id": "346b7248",
   "metadata": {},
   "source": [
    "# 5.  $\n",
    "Ends with"
   ]
  },
  {
   "cell_type": "code",
   "execution_count": 23,
   "id": "76919f1b",
   "metadata": {},
   "outputs": [
    {
     "name": "stdout",
     "output_type": "stream",
     "text": [
      "['planet']\n",
      "Yes\n"
     ]
    }
   ],
   "source": [
    "txt = \"hello planet\"\n",
    "x = re.findall(\"planet$\",txt)\n",
    "print(x)\n",
    "if(x):\n",
    "    print(\"Yes\")\n",
    "else:\n",
    "    print(\"No\")"
   ]
  }
 ],
 "metadata": {
  "kernelspec": {
   "display_name": "Python 3 (ipykernel)",
   "language": "python",
   "name": "python3"
  },
  "language_info": {
   "codemirror_mode": {
    "name": "ipython",
    "version": 3
   },
   "file_extension": ".py",
   "mimetype": "text/x-python",
   "name": "python",
   "nbconvert_exporter": "python",
   "pygments_lexer": "ipython3",
   "version": "3.9.12"
  }
 },
 "nbformat": 4,
 "nbformat_minor": 5
}
